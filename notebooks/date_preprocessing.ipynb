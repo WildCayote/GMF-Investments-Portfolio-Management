{
 "cells": [
  {
   "cell_type": "markdown",
   "metadata": {},
   "source": [
    "### Add scripts to the notebooks path"
   ]
  },
  {
   "cell_type": "code",
   "execution_count": 1,
   "metadata": {},
   "outputs": [
    {
     "name": "stdout",
     "output_type": "stream",
     "text": [
      "d:\\KifiyaAIM-Course\\Week - 11\\GMF-Investments-Portfolio-Management\\notebooks\n"
     ]
    }
   ],
   "source": [
    "import os, sys\n",
    "\n",
    "current_dir = os.getcwd()\n",
    "print(current_dir)\n",
    "\n",
    "# Get the parent directory\n",
    "parent_dir = os.path.dirname(current_dir)\n",
    "\n",
    "scripts_path = os.path.join(parent_dir, 'scripts')\n",
    "\n",
    "# Insert the path to the parent directory\n",
    "sys.path.insert(0, parent_dir)\n",
    "\n",
    "# Insert the path to the Scripts directory\n",
    "sys.path.insert(0, scripts_path)\n",
    "\n",
    "# Add the parent directory to the Python path\n",
    "sys.path.append(os.path.abspath(os.path.join('..')))"
   ]
  },
  {
   "cell_type": "markdown",
   "metadata": {},
   "source": [
    "### Import Statements"
   ]
  },
  {
   "cell_type": "code",
   "execution_count": 2,
   "metadata": {},
   "outputs": [],
   "source": [
    "import math\n",
    "import numpy as np\n",
    "import pandas as pd\n",
    "import seaborn as sns\n",
    "import matplotlib.pyplot as plt"
   ]
  },
  {
   "cell_type": "code",
   "execution_count": 3,
   "metadata": {},
   "outputs": [],
   "source": [
    "sns.set_theme()"
   ]
  },
  {
   "cell_type": "markdown",
   "metadata": {},
   "source": [
    "### Start preprocessing"
   ]
  },
  {
   "cell_type": "code",
   "execution_count": 5,
   "metadata": {},
   "outputs": [],
   "source": [
    "from scripts.finance_data_processor import FinanceDataProcessor\n",
    "\n",
    "preprocessor = FinanceDataProcessor()"
   ]
  },
  {
   "cell_type": "markdown",
   "metadata": {},
   "source": [
    "1) Get historical data from yfinance"
   ]
  },
  {
   "cell_type": "code",
   "execution_count": 6,
   "metadata": {},
   "outputs": [
    {
     "name": "stdout",
     "output_type": "stream",
     "text": [
      "Retrieving data for TSLA from 2015-01-01 to 2024-12-31...\n",
      "Data for TSLA saved to '../data\\TSLA.csv'.\n",
      "Retrieving data for BND from 2015-01-01 to 2024-12-31...\n",
      "Data for BND saved to '../data\\BND.csv'.\n",
      "Retrieving data for SPY from 2015-01-01 to 2024-12-31...\n",
      "Data for SPY saved to '../data\\SPY.csv'.\n"
     ]
    }
   ],
   "source": [
    "# first define the start and end date\n",
    "start_date = '2015-01-01' \n",
    "end_date = '2024-12-31'\n",
    "\n",
    "# now define the symbols of the stocks to get historical data of\n",
    "symbols = ['TSLA', 'BND', 'SPY']\n",
    "\n",
    "result = preprocessor.fetch_data(\n",
    "    start_date=start_date, \n",
    "    end_date=end_date, \n",
    "    tickers=symbols\n",
    ")"
   ]
  },
  {
   "cell_type": "markdown",
   "metadata": {},
   "source": [
    "2) Load the downloaded data"
   ]
  },
  {
   "cell_type": "code",
   "execution_count": 7,
   "metadata": {},
   "outputs": [],
   "source": [
    "tsla = preprocessor.read_data('TSLA')\n",
    "bnd = preprocessor.read_data('BND')\n",
    "spy = preprocessor.read_data('SPY')"
   ]
  },
  {
   "cell_type": "markdown",
   "metadata": {},
   "source": [
    "3) Basic description of the data frames"
   ]
  },
  {
   "cell_type": "code",
   "execution_count": 8,
   "metadata": {},
   "outputs": [
    {
     "data": {
      "text/html": [
       "<div>\n",
       "<style scoped>\n",
       "    .dataframe tbody tr th:only-of-type {\n",
       "        vertical-align: middle;\n",
       "    }\n",
       "\n",
       "    .dataframe tbody tr th {\n",
       "        vertical-align: top;\n",
       "    }\n",
       "\n",
       "    .dataframe thead th {\n",
       "        text-align: right;\n",
       "    }\n",
       "</style>\n",
       "<table border=\"1\" class=\"dataframe\">\n",
       "  <thead>\n",
       "    <tr style=\"text-align: right;\">\n",
       "      <th></th>\n",
       "      <th>Open</th>\n",
       "      <th>High</th>\n",
       "      <th>Low</th>\n",
       "      <th>Close</th>\n",
       "      <th>Volume</th>\n",
       "    </tr>\n",
       "  </thead>\n",
       "  <tbody>\n",
       "    <tr>\n",
       "      <th>count</th>\n",
       "      <td>2481.000000</td>\n",
       "      <td>2481.000000</td>\n",
       "      <td>2481.000000</td>\n",
       "      <td>2481.000000</td>\n",
       "      <td>2.481000e+03</td>\n",
       "    </tr>\n",
       "    <tr>\n",
       "      <th>mean</th>\n",
       "      <td>111.905041</td>\n",
       "      <td>114.403053</td>\n",
       "      <td>109.303978</td>\n",
       "      <td>111.890153</td>\n",
       "      <td>1.118377e+08</td>\n",
       "    </tr>\n",
       "    <tr>\n",
       "      <th>std</th>\n",
       "      <td>110.371880</td>\n",
       "      <td>112.886810</td>\n",
       "      <td>107.705892</td>\n",
       "      <td>110.302224</td>\n",
       "      <td>7.482119e+07</td>\n",
       "    </tr>\n",
       "    <tr>\n",
       "      <th>min</th>\n",
       "      <td>9.488000</td>\n",
       "      <td>10.331300</td>\n",
       "      <td>9.403330</td>\n",
       "      <td>9.578000</td>\n",
       "      <td>1.065416e+07</td>\n",
       "    </tr>\n",
       "    <tr>\n",
       "      <th>25%</th>\n",
       "      <td>17.099300</td>\n",
       "      <td>17.386700</td>\n",
       "      <td>16.800000</td>\n",
       "      <td>17.086000</td>\n",
       "      <td>6.625500e+07</td>\n",
       "    </tr>\n",
       "    <tr>\n",
       "      <th>50%</th>\n",
       "      <td>25.093300</td>\n",
       "      <td>25.509300</td>\n",
       "      <td>24.648700</td>\n",
       "      <td>25.166000</td>\n",
       "      <td>9.248894e+07</td>\n",
       "    </tr>\n",
       "    <tr>\n",
       "      <th>75%</th>\n",
       "      <td>217.897000</td>\n",
       "      <td>222.167000</td>\n",
       "      <td>212.530000</td>\n",
       "      <td>217.733000</td>\n",
       "      <td>1.295282e+08</td>\n",
       "    </tr>\n",
       "    <tr>\n",
       "      <th>max</th>\n",
       "      <td>411.470000</td>\n",
       "      <td>414.497000</td>\n",
       "      <td>405.667000</td>\n",
       "      <td>409.970000</td>\n",
       "      <td>9.140814e+08</td>\n",
       "    </tr>\n",
       "  </tbody>\n",
       "</table>\n",
       "</div>"
      ],
      "text/plain": [
       "              Open         High          Low        Close        Volume\n",
       "count  2481.000000  2481.000000  2481.000000  2481.000000  2.481000e+03\n",
       "mean    111.905041   114.403053   109.303978   111.890153  1.118377e+08\n",
       "std     110.371880   112.886810   107.705892   110.302224  7.482119e+07\n",
       "min       9.488000    10.331300     9.403330     9.578000  1.065416e+07\n",
       "25%      17.099300    17.386700    16.800000    17.086000  6.625500e+07\n",
       "50%      25.093300    25.509300    24.648700    25.166000  9.248894e+07\n",
       "75%     217.897000   222.167000   212.530000   217.733000  1.295282e+08\n",
       "max     411.470000   414.497000   405.667000   409.970000  9.140814e+08"
      ]
     },
     "execution_count": 8,
     "metadata": {},
     "output_type": "execute_result"
    }
   ],
   "source": [
    "tsla.describe()"
   ]
  },
  {
   "cell_type": "code",
   "execution_count": 9,
   "metadata": {},
   "outputs": [
    {
     "data": {
      "text/html": [
       "<div>\n",
       "<style scoped>\n",
       "    .dataframe tbody tr th:only-of-type {\n",
       "        vertical-align: middle;\n",
       "    }\n",
       "\n",
       "    .dataframe tbody tr th {\n",
       "        vertical-align: top;\n",
       "    }\n",
       "\n",
       "    .dataframe thead th {\n",
       "        text-align: right;\n",
       "    }\n",
       "</style>\n",
       "<table border=\"1\" class=\"dataframe\">\n",
       "  <thead>\n",
       "    <tr style=\"text-align: right;\">\n",
       "      <th></th>\n",
       "      <th>Open</th>\n",
       "      <th>High</th>\n",
       "      <th>Low</th>\n",
       "      <th>Close</th>\n",
       "      <th>Volume</th>\n",
       "    </tr>\n",
       "  </thead>\n",
       "  <tbody>\n",
       "    <tr>\n",
       "      <th>count</th>\n",
       "      <td>2481.000000</td>\n",
       "      <td>2481.000000</td>\n",
       "      <td>2481.000000</td>\n",
       "      <td>2481.000000</td>\n",
       "      <td>2.481000e+03</td>\n",
       "    </tr>\n",
       "    <tr>\n",
       "      <th>mean</th>\n",
       "      <td>75.275884</td>\n",
       "      <td>75.381262</td>\n",
       "      <td>75.160585</td>\n",
       "      <td>75.272622</td>\n",
       "      <td>4.358350e+06</td>\n",
       "    </tr>\n",
       "    <tr>\n",
       "      <th>std</th>\n",
       "      <td>4.968928</td>\n",
       "      <td>4.970553</td>\n",
       "      <td>4.963029</td>\n",
       "      <td>4.967820</td>\n",
       "      <td>2.755311e+06</td>\n",
       "    </tr>\n",
       "    <tr>\n",
       "      <th>min</th>\n",
       "      <td>68.080000</td>\n",
       "      <td>68.375200</td>\n",
       "      <td>67.990000</td>\n",
       "      <td>68.040000</td>\n",
       "      <td>6.019573e+05</td>\n",
       "    </tr>\n",
       "    <tr>\n",
       "      <th>25%</th>\n",
       "      <td>71.878400</td>\n",
       "      <td>71.960000</td>\n",
       "      <td>71.786600</td>\n",
       "      <td>71.869300</td>\n",
       "      <td>2.266552e+06</td>\n",
       "    </tr>\n",
       "    <tr>\n",
       "      <th>50%</th>\n",
       "      <td>73.360000</td>\n",
       "      <td>73.444500</td>\n",
       "      <td>73.249000</td>\n",
       "      <td>73.350000</td>\n",
       "      <td>3.901235e+06</td>\n",
       "    </tr>\n",
       "    <tr>\n",
       "      <th>75%</th>\n",
       "      <td>79.815900</td>\n",
       "      <td>79.985700</td>\n",
       "      <td>79.655900</td>\n",
       "      <td>79.785300</td>\n",
       "      <td>5.685918e+06</td>\n",
       "    </tr>\n",
       "    <tr>\n",
       "      <th>max</th>\n",
       "      <td>86.385600</td>\n",
       "      <td>86.424300</td>\n",
       "      <td>86.279100</td>\n",
       "      <td>86.317600</td>\n",
       "      <td>3.193718e+07</td>\n",
       "    </tr>\n",
       "  </tbody>\n",
       "</table>\n",
       "</div>"
      ],
      "text/plain": [
       "              Open         High          Low        Close        Volume\n",
       "count  2481.000000  2481.000000  2481.000000  2481.000000  2.481000e+03\n",
       "mean     75.275884    75.381262    75.160585    75.272622  4.358350e+06\n",
       "std       4.968928     4.970553     4.963029     4.967820  2.755311e+06\n",
       "min      68.080000    68.375200    67.990000    68.040000  6.019573e+05\n",
       "25%      71.878400    71.960000    71.786600    71.869300  2.266552e+06\n",
       "50%      73.360000    73.444500    73.249000    73.350000  3.901235e+06\n",
       "75%      79.815900    79.985700    79.655900    79.785300  5.685918e+06\n",
       "max      86.385600    86.424300    86.279100    86.317600  3.193718e+07"
      ]
     },
     "execution_count": 9,
     "metadata": {},
     "output_type": "execute_result"
    }
   ],
   "source": [
    "bnd.describe()"
   ]
  },
  {
   "cell_type": "code",
   "execution_count": 10,
   "metadata": {},
   "outputs": [
    {
     "data": {
      "text/html": [
       "<div>\n",
       "<style scoped>\n",
       "    .dataframe tbody tr th:only-of-type {\n",
       "        vertical-align: middle;\n",
       "    }\n",
       "\n",
       "    .dataframe tbody tr th {\n",
       "        vertical-align: top;\n",
       "    }\n",
       "\n",
       "    .dataframe thead th {\n",
       "        text-align: right;\n",
       "    }\n",
       "</style>\n",
       "<table border=\"1\" class=\"dataframe\">\n",
       "  <thead>\n",
       "    <tr style=\"text-align: right;\">\n",
       "      <th></th>\n",
       "      <th>Open</th>\n",
       "      <th>High</th>\n",
       "      <th>Low</th>\n",
       "      <th>Close</th>\n",
       "      <th>Volume</th>\n",
       "    </tr>\n",
       "  </thead>\n",
       "  <tbody>\n",
       "    <tr>\n",
       "      <th>count</th>\n",
       "      <td>2481.000000</td>\n",
       "      <td>2481.000000</td>\n",
       "      <td>2481.000000</td>\n",
       "      <td>2481.000000</td>\n",
       "      <td>2.481000e+03</td>\n",
       "    </tr>\n",
       "    <tr>\n",
       "      <th>mean</th>\n",
       "      <td>318.493941</td>\n",
       "      <td>320.235050</td>\n",
       "      <td>316.608377</td>\n",
       "      <td>318.547732</td>\n",
       "      <td>9.358051e+07</td>\n",
       "    </tr>\n",
       "    <tr>\n",
       "      <th>std</th>\n",
       "      <td>112.550498</td>\n",
       "      <td>113.143931</td>\n",
       "      <td>111.897908</td>\n",
       "      <td>112.570587</td>\n",
       "      <td>5.087668e+07</td>\n",
       "    </tr>\n",
       "    <tr>\n",
       "      <th>min</th>\n",
       "      <td>161.473000</td>\n",
       "      <td>163.059000</td>\n",
       "      <td>159.768000</td>\n",
       "      <td>161.949000</td>\n",
       "      <td>2.116804e+07</td>\n",
       "    </tr>\n",
       "    <tr>\n",
       "      <th>25%</th>\n",
       "      <td>221.505000</td>\n",
       "      <td>221.981000</td>\n",
       "      <td>220.306000</td>\n",
       "      <td>221.178000</td>\n",
       "      <td>6.213793e+07</td>\n",
       "    </tr>\n",
       "    <tr>\n",
       "      <th>50%</th>\n",
       "      <td>283.917000</td>\n",
       "      <td>285.295000</td>\n",
       "      <td>282.459000</td>\n",
       "      <td>284.165000</td>\n",
       "      <td>8.087444e+07</td>\n",
       "    </tr>\n",
       "    <tr>\n",
       "      <th>75%</th>\n",
       "      <td>412.970000</td>\n",
       "      <td>414.570000</td>\n",
       "      <td>410.267000</td>\n",
       "      <td>412.740000</td>\n",
       "      <td>1.084854e+08</td>\n",
       "    </tr>\n",
       "    <tr>\n",
       "      <th>max</th>\n",
       "      <td>596.170000</td>\n",
       "      <td>599.640000</td>\n",
       "      <td>596.165000</td>\n",
       "      <td>598.190000</td>\n",
       "      <td>7.055181e+08</td>\n",
       "    </tr>\n",
       "  </tbody>\n",
       "</table>\n",
       "</div>"
      ],
      "text/plain": [
       "              Open         High          Low        Close        Volume\n",
       "count  2481.000000  2481.000000  2481.000000  2481.000000  2.481000e+03\n",
       "mean    318.493941   320.235050   316.608377   318.547732  9.358051e+07\n",
       "std     112.550498   113.143931   111.897908   112.570587  5.087668e+07\n",
       "min     161.473000   163.059000   159.768000   161.949000  2.116804e+07\n",
       "25%     221.505000   221.981000   220.306000   221.178000  6.213793e+07\n",
       "50%     283.917000   285.295000   282.459000   284.165000  8.087444e+07\n",
       "75%     412.970000   414.570000   410.267000   412.740000  1.084854e+08\n",
       "max     596.170000   599.640000   596.165000   598.190000  7.055181e+08"
      ]
     },
     "execution_count": 10,
     "metadata": {},
     "output_type": "execute_result"
    }
   ],
   "source": [
    "spy.describe()"
   ]
  }
 ],
 "metadata": {
  "kernelspec": {
   "display_name": "venv",
   "language": "python",
   "name": "python3"
  },
  "language_info": {
   "codemirror_mode": {
    "name": "ipython",
    "version": 3
   },
   "file_extension": ".py",
   "mimetype": "text/x-python",
   "name": "python",
   "nbconvert_exporter": "python",
   "pygments_lexer": "ipython3",
   "version": "3.10.2"
  }
 },
 "nbformat": 4,
 "nbformat_minor": 2
}
